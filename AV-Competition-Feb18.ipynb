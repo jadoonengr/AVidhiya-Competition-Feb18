{
 "cells": [
  {
   "cell_type": "markdown",
   "metadata": {},
   "source": [
    "# Analytics Vidhya Competition\n",
    "## Data Science Hackathon\n",
    "## Feburary 2018\n"
   ]
  },
  {
   "cell_type": "markdown",
   "metadata": {},
   "source": [
    "***"
   ]
  },
  {
   "cell_type": "markdown",
   "metadata": {},
   "source": [
    "### Problem Statement"
   ]
  },
  {
   "cell_type": "markdown",
   "metadata": {},
   "source": [
    "Country Beeristan, a high potential market, accounts for nearly 10% of Stallion & Co.’s global beer sales. Stallion & Co. has a large portfolio of products distributed to retailers through wholesalers (agencies). There are thousands of unique wholesaler-SKU/products combinations. In order to plan its production and distribution as well as help wholesalers with their planning, it is important for Stallion & Co. to have an accurate estimate of demand at SKU level for each wholesaler.\n",
    "\n",
    "Currently demand is estimated by sales executives, who generally have a “feel” for the market and predict the net effect of forces of supply, demand and other external factors based on past experience. The more experienced a sales exec is in a particular market, the better a job he does at estimating. Joshua, the new Head of S&OP for Stallion & Co. just took an analytics course and realized he can do the forecasts in a much more effective way. He approaches you, the best data scientist at Stallion, to transform the exercise of demand forecasting."
   ]
  },
  {
   "cell_type": "markdown",
   "metadata": {},
   "source": [
    "### Datasets"
   ]
  },
  {
   "cell_type": "markdown",
   "metadata": {},
   "source": [
    "You are provided with the following data:\n",
    "\n",
    "- price_sales_promotion.csv: (\\$/hectoliter) Holds the price, sales & promotion in dollar value per hectoliter at Agency-SKU-month level\n",
    "- historical_volume.csv: \\(hectoliters\\) Holds sales data at Agency-SKU-month level from Jan 2013 to Dec 2017\n",
    "- weather.csv: (Degree Celsius) Holds average maximum temperature at Agency-month level\n",
    "- industry_soda_sales.csv: (hectoliters) Holds industry level soda sales\n",
    "- event_calendar.csv: Holds event details (sports, carnivals, etc.)\n",
    "- industry_volume.csv: (hectoliters) Holds industry actual beer volume\n",
    "- demographics.csv: Holds demographic details (Yearly income in $)"
   ]
  },
  {
   "cell_type": "markdown",
   "metadata": {},
   "source": [
    "### Submission Formats"
   ]
  },
  {
   "cell_type": "markdown",
   "metadata": {},
   "source": [
    "1. Volume_forecast.csv: You need to first forecast the demand volume for Jan’18 of all agency-SKU combination.\n",
    "1. sku_recommendation.csv: Secondly, you need to suggest 2 SKUs which can be sold by Agency06 & Agency14. These two agencies are new and company wants to find out which two products would be the best products for these two agencies.\n",
    "\n",
    "Summarize the analysis carried out in a one pager mentioning the techniques used for forecasting and the approach to arrive at the suggested SKUs for Agency06 & Agency14."
   ]
  },
  {
   "cell_type": "markdown",
   "metadata": {},
   "source": [
    "### Evaluation Metrics"
   ]
  },
  {
   "cell_type": "markdown",
   "metadata": {},
   "source": [
    "**Forecasting Score:** Forecast accuracy will be calculated using the following formula:"
   ]
  },
  {
   "cell_type": "markdown",
   "metadata": {},
   "source": [
    "![forcasting formula](images/final_eqn_abinbev1-e1519195839730.jpg)"
   ]
  },
  {
   "cell_type": "markdown",
   "metadata": {},
   "source": [
    "**Recommendation Score:** It is based on exact match with correct sku set (Actual SKU set). Score would be:\n",
    "\n",
    "- 1 if both the recommeded SKUs are among the correct skus\n",
    "- 0.5 if only one sku is among the correct skus\n",
    "- 0 if no sku is among the correct skus"
   ]
  },
  {
   "cell_type": "markdown",
   "metadata": {},
   "source": [
    "#### Public and Private Score:"
   ]
  },
  {
   "cell_type": "markdown",
   "metadata": {},
   "source": [
    "* For Forecasting, public and private split is 20:80 on agency level i.e. 12 agencies are in public and 46 agencies are in private.\n",
    "* Public leaderboard score is based on forecast accuracy only which is evaluated on the public part of the test file\n",
    "* Private Leaderboard Score has 3 components:\n",
    "    * Private Score = 0.70 * (forecast accuracy on the private) + 0.15 * (Recommendation Score for Agency_06) + 0.15 * (Recommendation Score for Agency_14)\n",
    "    * Final standing on the leaderboard is based on private score only"
   ]
  },
  {
   "cell_type": "markdown",
   "metadata": {},
   "source": [
    "***"
   ]
  },
  {
   "cell_type": "markdown",
   "metadata": {},
   "source": [
    "# Solution"
   ]
  },
  {
   "cell_type": "code",
   "execution_count": 169,
   "metadata": {},
   "outputs": [
    {
     "data": {
      "text/plain": [
       "'\\nCreated on 24 Feb, 2018\\n\\n@author: Aamir\\n'"
      ]
     },
     "execution_count": 169,
     "metadata": {},
     "output_type": "execute_result"
    }
   ],
   "source": [
    "\"\"\"\n",
    "Created on 24 Feb, 2018\n",
    "\n",
    "@author: Aamir\n",
    "\"\"\""
   ]
  },
  {
   "cell_type": "markdown",
   "metadata": {},
   "source": [
    "### Import Libraries"
   ]
  },
  {
   "cell_type": "code",
   "execution_count": 170,
   "metadata": {},
   "outputs": [],
   "source": [
    "import scipy.io\n",
    "import numpy as np\n",
    "import pandas as pd\n",
    "\n",
    "import matplotlib.pyplot as plt\n",
    "import seaborn as sns\n",
    "%matplotlib inline\n",
    "\n",
    "from sklearn.model_selection import train_test_split"
   ]
  },
  {
   "cell_type": "code",
   "execution_count": 171,
   "metadata": {},
   "outputs": [],
   "source": [
    "# fix random seed for reproducibility\n",
    "seed = 42\n",
    "np.random.seed(seed)"
   ]
  },
  {
   "cell_type": "markdown",
   "metadata": {},
   "source": [
    "### Import and select relevant data"
   ]
  },
  {
   "cell_type": "code",
   "execution_count": 172,
   "metadata": {},
   "outputs": [],
   "source": [
    "### Load all data\n",
    "psp = pd.read_csv('datasets/train/price_sales_promotion.csv')\n",
    "hv = pd.read_csv('datasets/train/historical_volume.csv')\n",
    "w = pd.read_csv('datasets/train/weather.csv')\n",
    "iss = pd.read_csv('datasets/train/industry_soda_sales.csv')\n",
    "ec = pd.read_csv('datasets/train/event_calendar.csv')\n",
    "iv = pd.read_csv('datasets/train/industry_volume.csv')\n",
    "d = pd.read_csv('datasets/train/demographics.csv')"
   ]
  },
  {
   "cell_type": "code",
   "execution_count": 173,
   "metadata": {},
   "outputs": [
    {
     "data": {
      "text/html": [
       "<div>\n",
       "<style>\n",
       "    .dataframe thead tr:only-child th {\n",
       "        text-align: right;\n",
       "    }\n",
       "\n",
       "    .dataframe thead th {\n",
       "        text-align: left;\n",
       "    }\n",
       "\n",
       "    .dataframe tbody tr th {\n",
       "        vertical-align: top;\n",
       "    }\n",
       "</style>\n",
       "<table border=\"1\" class=\"dataframe\">\n",
       "  <thead>\n",
       "    <tr style=\"text-align: right;\">\n",
       "      <th></th>\n",
       "      <th>Agency</th>\n",
       "      <th>SKU</th>\n",
       "      <th>YearMonth</th>\n",
       "      <th>Price</th>\n",
       "      <th>Sales</th>\n",
       "      <th>Promotions</th>\n",
       "      <th>Volume</th>\n",
       "      <th>Avg_Max_Temp</th>\n",
       "      <th>Soda_Volume</th>\n",
       "      <th>Easter Day</th>\n",
       "      <th>...</th>\n",
       "      <th>Independence Day</th>\n",
       "      <th>Revolution Day Memorial</th>\n",
       "      <th>Regional Games</th>\n",
       "      <th>FIFA U-17 World Cup</th>\n",
       "      <th>Football Gold Cup</th>\n",
       "      <th>Beer Capital</th>\n",
       "      <th>Music Fest</th>\n",
       "      <th>Industry_Volume</th>\n",
       "      <th>Avg_Population_2017</th>\n",
       "      <th>Avg_Yearly_Household_Income_2017</th>\n",
       "    </tr>\n",
       "  </thead>\n",
       "  <tbody>\n",
       "    <tr>\n",
       "      <th>0</th>\n",
       "      <td>Agency_01</td>\n",
       "      <td>SKU_01</td>\n",
       "      <td>201301</td>\n",
       "      <td>1141.500000</td>\n",
       "      <td>1033.432731</td>\n",
       "      <td>108.067269</td>\n",
       "      <td>80.6760</td>\n",
       "      <td>17.072</td>\n",
       "      <td>718394219</td>\n",
       "      <td>0</td>\n",
       "      <td>...</td>\n",
       "      <td>0</td>\n",
       "      <td>0</td>\n",
       "      <td>0</td>\n",
       "      <td>0</td>\n",
       "      <td>0</td>\n",
       "      <td>0</td>\n",
       "      <td>0</td>\n",
       "      <td>492612703</td>\n",
       "      <td>153733</td>\n",
       "      <td>120207</td>\n",
       "    </tr>\n",
       "    <tr>\n",
       "      <th>1</th>\n",
       "      <td>Agency_01</td>\n",
       "      <td>SKU_02</td>\n",
       "      <td>201301</td>\n",
       "      <td>1074.157799</td>\n",
       "      <td>969.186209</td>\n",
       "      <td>104.971591</td>\n",
       "      <td>78.4080</td>\n",
       "      <td>17.072</td>\n",
       "      <td>718394219</td>\n",
       "      <td>0</td>\n",
       "      <td>...</td>\n",
       "      <td>0</td>\n",
       "      <td>0</td>\n",
       "      <td>0</td>\n",
       "      <td>0</td>\n",
       "      <td>0</td>\n",
       "      <td>0</td>\n",
       "      <td>0</td>\n",
       "      <td>492612703</td>\n",
       "      <td>153733</td>\n",
       "      <td>120207</td>\n",
       "    </tr>\n",
       "    <tr>\n",
       "      <th>2</th>\n",
       "      <td>Agency_01</td>\n",
       "      <td>SKU_03</td>\n",
       "      <td>201301</td>\n",
       "      <td>1239.734043</td>\n",
       "      <td>1141.894806</td>\n",
       "      <td>97.839237</td>\n",
       "      <td>35.9550</td>\n",
       "      <td>17.072</td>\n",
       "      <td>718394219</td>\n",
       "      <td>0</td>\n",
       "      <td>...</td>\n",
       "      <td>0</td>\n",
       "      <td>0</td>\n",
       "      <td>0</td>\n",
       "      <td>0</td>\n",
       "      <td>0</td>\n",
       "      <td>0</td>\n",
       "      <td>0</td>\n",
       "      <td>492612703</td>\n",
       "      <td>153733</td>\n",
       "      <td>120207</td>\n",
       "    </tr>\n",
       "    <tr>\n",
       "      <th>3</th>\n",
       "      <td>Agency_01</td>\n",
       "      <td>SKU_04</td>\n",
       "      <td>201301</td>\n",
       "      <td>1725.711827</td>\n",
       "      <td>1467.681860</td>\n",
       "      <td>258.029967</td>\n",
       "      <td>230.2956</td>\n",
       "      <td>17.072</td>\n",
       "      <td>718394219</td>\n",
       "      <td>0</td>\n",
       "      <td>...</td>\n",
       "      <td>0</td>\n",
       "      <td>0</td>\n",
       "      <td>0</td>\n",
       "      <td>0</td>\n",
       "      <td>0</td>\n",
       "      <td>0</td>\n",
       "      <td>0</td>\n",
       "      <td>492612703</td>\n",
       "      <td>153733</td>\n",
       "      <td>120207</td>\n",
       "    </tr>\n",
       "    <tr>\n",
       "      <th>4</th>\n",
       "      <td>Agency_01</td>\n",
       "      <td>SKU_05</td>\n",
       "      <td>201301</td>\n",
       "      <td>1260.322817</td>\n",
       "      <td>1172.763381</td>\n",
       "      <td>87.559436</td>\n",
       "      <td>15.9750</td>\n",
       "      <td>17.072</td>\n",
       "      <td>718394219</td>\n",
       "      <td>0</td>\n",
       "      <td>...</td>\n",
       "      <td>0</td>\n",
       "      <td>0</td>\n",
       "      <td>0</td>\n",
       "      <td>0</td>\n",
       "      <td>0</td>\n",
       "      <td>0</td>\n",
       "      <td>0</td>\n",
       "      <td>492612703</td>\n",
       "      <td>153733</td>\n",
       "      <td>120207</td>\n",
       "    </tr>\n",
       "    <tr>\n",
       "      <th>5</th>\n",
       "      <td>Agency_01</td>\n",
       "      <td>SKU_11</td>\n",
       "      <td>201301</td>\n",
       "      <td>1779.102113</td>\n",
       "      <td>1672.084507</td>\n",
       "      <td>107.017606</td>\n",
       "      <td>7.6680</td>\n",
       "      <td>17.072</td>\n",
       "      <td>718394219</td>\n",
       "      <td>0</td>\n",
       "      <td>...</td>\n",
       "      <td>0</td>\n",
       "      <td>0</td>\n",
       "      <td>0</td>\n",
       "      <td>0</td>\n",
       "      <td>0</td>\n",
       "      <td>0</td>\n",
       "      <td>0</td>\n",
       "      <td>492612703</td>\n",
       "      <td>153733</td>\n",
       "      <td>120207</td>\n",
       "    </tr>\n",
       "    <tr>\n",
       "      <th>6</th>\n",
       "      <td>Agency_01</td>\n",
       "      <td>SKU_01</td>\n",
       "      <td>201302</td>\n",
       "      <td>1141.500000</td>\n",
       "      <td>1065.417195</td>\n",
       "      <td>76.082805</td>\n",
       "      <td>98.0640</td>\n",
       "      <td>19.984</td>\n",
       "      <td>753938444</td>\n",
       "      <td>0</td>\n",
       "      <td>...</td>\n",
       "      <td>0</td>\n",
       "      <td>0</td>\n",
       "      <td>0</td>\n",
       "      <td>0</td>\n",
       "      <td>0</td>\n",
       "      <td>0</td>\n",
       "      <td>0</td>\n",
       "      <td>431937346</td>\n",
       "      <td>153733</td>\n",
       "      <td>120207</td>\n",
       "    </tr>\n",
       "    <tr>\n",
       "      <th>7</th>\n",
       "      <td>Agency_01</td>\n",
       "      <td>SKU_02</td>\n",
       "      <td>201302</td>\n",
       "      <td>1074.944845</td>\n",
       "      <td>996.950762</td>\n",
       "      <td>77.994083</td>\n",
       "      <td>99.2520</td>\n",
       "      <td>19.984</td>\n",
       "      <td>753938444</td>\n",
       "      <td>0</td>\n",
       "      <td>...</td>\n",
       "      <td>0</td>\n",
       "      <td>0</td>\n",
       "      <td>0</td>\n",
       "      <td>0</td>\n",
       "      <td>0</td>\n",
       "      <td>0</td>\n",
       "      <td>0</td>\n",
       "      <td>431937346</td>\n",
       "      <td>153733</td>\n",
       "      <td>120207</td>\n",
       "    </tr>\n",
       "    <tr>\n",
       "      <th>8</th>\n",
       "      <td>Agency_01</td>\n",
       "      <td>SKU_03</td>\n",
       "      <td>201302</td>\n",
       "      <td>1239.734043</td>\n",
       "      <td>1154.786791</td>\n",
       "      <td>84.947252</td>\n",
       "      <td>45.6840</td>\n",
       "      <td>19.984</td>\n",
       "      <td>753938444</td>\n",
       "      <td>0</td>\n",
       "      <td>...</td>\n",
       "      <td>0</td>\n",
       "      <td>0</td>\n",
       "      <td>0</td>\n",
       "      <td>0</td>\n",
       "      <td>0</td>\n",
       "      <td>0</td>\n",
       "      <td>0</td>\n",
       "      <td>431937346</td>\n",
       "      <td>153733</td>\n",
       "      <td>120207</td>\n",
       "    </tr>\n",
       "    <tr>\n",
       "      <th>9</th>\n",
       "      <td>Agency_01</td>\n",
       "      <td>SKU_04</td>\n",
       "      <td>201302</td>\n",
       "      <td>1728.545508</td>\n",
       "      <td>1500.037283</td>\n",
       "      <td>228.508225</td>\n",
       "      <td>270.4887</td>\n",
       "      <td>19.984</td>\n",
       "      <td>753938444</td>\n",
       "      <td>0</td>\n",
       "      <td>...</td>\n",
       "      <td>0</td>\n",
       "      <td>0</td>\n",
       "      <td>0</td>\n",
       "      <td>0</td>\n",
       "      <td>0</td>\n",
       "      <td>0</td>\n",
       "      <td>0</td>\n",
       "      <td>431937346</td>\n",
       "      <td>153733</td>\n",
       "      <td>120207</td>\n",
       "    </tr>\n",
       "  </tbody>\n",
       "</table>\n",
       "<p>10 rows × 24 columns</p>\n",
       "</div>"
      ],
      "text/plain": [
       "      Agency     SKU  YearMonth        Price        Sales  Promotions  \\\n",
       "0  Agency_01  SKU_01     201301  1141.500000  1033.432731  108.067269   \n",
       "1  Agency_01  SKU_02     201301  1074.157799   969.186209  104.971591   \n",
       "2  Agency_01  SKU_03     201301  1239.734043  1141.894806   97.839237   \n",
       "3  Agency_01  SKU_04     201301  1725.711827  1467.681860  258.029967   \n",
       "4  Agency_01  SKU_05     201301  1260.322817  1172.763381   87.559436   \n",
       "5  Agency_01  SKU_11     201301  1779.102113  1672.084507  107.017606   \n",
       "6  Agency_01  SKU_01     201302  1141.500000  1065.417195   76.082805   \n",
       "7  Agency_01  SKU_02     201302  1074.944845   996.950762   77.994083   \n",
       "8  Agency_01  SKU_03     201302  1239.734043  1154.786791   84.947252   \n",
       "9  Agency_01  SKU_04     201302  1728.545508  1500.037283  228.508225   \n",
       "\n",
       "     Volume  Avg_Max_Temp  Soda_Volume  Easter Day  \\\n",
       "0   80.6760        17.072    718394219           0   \n",
       "1   78.4080        17.072    718394219           0   \n",
       "2   35.9550        17.072    718394219           0   \n",
       "3  230.2956        17.072    718394219           0   \n",
       "4   15.9750        17.072    718394219           0   \n",
       "5    7.6680        17.072    718394219           0   \n",
       "6   98.0640        19.984    753938444           0   \n",
       "7   99.2520        19.984    753938444           0   \n",
       "8   45.6840        19.984    753938444           0   \n",
       "9  270.4887        19.984    753938444           0   \n",
       "\n",
       "                 ...                 Independence Day  \\\n",
       "0                ...                                0   \n",
       "1                ...                                0   \n",
       "2                ...                                0   \n",
       "3                ...                                0   \n",
       "4                ...                                0   \n",
       "5                ...                                0   \n",
       "6                ...                                0   \n",
       "7                ...                                0   \n",
       "8                ...                                0   \n",
       "9                ...                                0   \n",
       "\n",
       "   Revolution Day Memorial  Regional Games   FIFA U-17 World Cup  \\\n",
       "0                        0                0                    0   \n",
       "1                        0                0                    0   \n",
       "2                        0                0                    0   \n",
       "3                        0                0                    0   \n",
       "4                        0                0                    0   \n",
       "5                        0                0                    0   \n",
       "6                        0                0                    0   \n",
       "7                        0                0                    0   \n",
       "8                        0                0                    0   \n",
       "9                        0                0                    0   \n",
       "\n",
       "   Football Gold Cup  Beer Capital  Music Fest  Industry_Volume  \\\n",
       "0                  0             0           0        492612703   \n",
       "1                  0             0           0        492612703   \n",
       "2                  0             0           0        492612703   \n",
       "3                  0             0           0        492612703   \n",
       "4                  0             0           0        492612703   \n",
       "5                  0             0           0        492612703   \n",
       "6                  0             0           0        431937346   \n",
       "7                  0             0           0        431937346   \n",
       "8                  0             0           0        431937346   \n",
       "9                  0             0           0        431937346   \n",
       "\n",
       "   Avg_Population_2017  Avg_Yearly_Household_Income_2017  \n",
       "0               153733                            120207  \n",
       "1               153733                            120207  \n",
       "2               153733                            120207  \n",
       "3               153733                            120207  \n",
       "4               153733                            120207  \n",
       "5               153733                            120207  \n",
       "6               153733                            120207  \n",
       "7               153733                            120207  \n",
       "8               153733                            120207  \n",
       "9               153733                            120207  \n",
       "\n",
       "[10 rows x 24 columns]"
      ]
     },
     "execution_count": 173,
     "metadata": {},
     "output_type": "execute_result"
    }
   ],
   "source": [
    "data = psp.merge(hv,on=['Agency','SKU','YearMonth']).\\\n",
    "            merge(w,on=['Agency','YearMonth']).\\\n",
    "            merge(iss,on='YearMonth').\\\n",
    "            merge(ec,on='YearMonth').\\\n",
    "            merge(iv,on='YearMonth').\\\n",
    "            merge(d,on='Agency')\n",
    "data.head(10)"
   ]
  },
  {
   "cell_type": "code",
   "execution_count": 174,
   "metadata": {},
   "outputs": [
    {
     "name": "stdout",
     "output_type": "stream",
     "text": [
      "<class 'pandas.core.frame.DataFrame'>\n",
      "Int64Index: 21000 entries, 0 to 20999\n",
      "Data columns (total 24 columns):\n",
      "Agency                              21000 non-null object\n",
      "SKU                                 21000 non-null object\n",
      "YearMonth                           21000 non-null int64\n",
      "Price                               21000 non-null float64\n",
      "Sales                               21000 non-null float64\n",
      "Promotions                          21000 non-null float64\n",
      "Volume                              21000 non-null float64\n",
      "Avg_Max_Temp                        21000 non-null float64\n",
      "Soda_Volume                         21000 non-null int64\n",
      "Easter Day                          21000 non-null int64\n",
      "Good Friday                         21000 non-null int64\n",
      "New Year                            21000 non-null int64\n",
      "Christmas                           21000 non-null int64\n",
      "Labor Day                           21000 non-null int64\n",
      "Independence Day                    21000 non-null int64\n",
      "Revolution Day Memorial             21000 non-null int64\n",
      "Regional Games                      21000 non-null int64\n",
      "FIFA U-17 World Cup                 21000 non-null int64\n",
      "Football Gold Cup                   21000 non-null int64\n",
      "Beer Capital                        21000 non-null int64\n",
      "Music Fest                          21000 non-null int64\n",
      "Industry_Volume                     21000 non-null int64\n",
      "Avg_Population_2017                 21000 non-null int64\n",
      "Avg_Yearly_Household_Income_2017    21000 non-null int64\n",
      "dtypes: float64(5), int64(17), object(2)\n",
      "memory usage: 4.0+ MB\n"
     ]
    }
   ],
   "source": [
    "data.info() "
   ]
  },
  {
   "cell_type": "markdown",
   "metadata": {},
   "source": [
    "Most of the data is in correct format with some exceptions:\n",
    "- Agency, SKU needs to be categorized and replaced by dummy variables\n",
    "- YearMonth needs to be split into numeric Year and Month columns"
   ]
  },
  {
   "cell_type": "code",
   "execution_count": 175,
   "metadata": {},
   "outputs": [
    {
     "data": {
      "text/html": [
       "<div>\n",
       "<style>\n",
       "    .dataframe thead tr:only-child th {\n",
       "        text-align: right;\n",
       "    }\n",
       "\n",
       "    .dataframe thead th {\n",
       "        text-align: left;\n",
       "    }\n",
       "\n",
       "    .dataframe tbody tr th {\n",
       "        vertical-align: top;\n",
       "    }\n",
       "</style>\n",
       "<table border=\"1\" class=\"dataframe\">\n",
       "  <thead>\n",
       "    <tr style=\"text-align: right;\">\n",
       "      <th></th>\n",
       "      <th>YearMonth</th>\n",
       "      <th>Price</th>\n",
       "      <th>Sales</th>\n",
       "      <th>Promotions</th>\n",
       "      <th>Volume</th>\n",
       "      <th>Avg_Max_Temp</th>\n",
       "      <th>Soda_Volume</th>\n",
       "      <th>Easter Day</th>\n",
       "      <th>Good Friday</th>\n",
       "      <th>New Year</th>\n",
       "      <th>...</th>\n",
       "      <th>Independence Day</th>\n",
       "      <th>Revolution Day Memorial</th>\n",
       "      <th>Regional Games</th>\n",
       "      <th>FIFA U-17 World Cup</th>\n",
       "      <th>Football Gold Cup</th>\n",
       "      <th>Beer Capital</th>\n",
       "      <th>Music Fest</th>\n",
       "      <th>Industry_Volume</th>\n",
       "      <th>Avg_Population_2017</th>\n",
       "      <th>Avg_Yearly_Household_Income_2017</th>\n",
       "    </tr>\n",
       "  </thead>\n",
       "  <tbody>\n",
       "    <tr>\n",
       "      <th>count</th>\n",
       "      <td>21000.00000</td>\n",
       "      <td>21000.000000</td>\n",
       "      <td>21000.000000</td>\n",
       "      <td>21000.000000</td>\n",
       "      <td>21000.000000</td>\n",
       "      <td>21000.000000</td>\n",
       "      <td>2.100000e+04</td>\n",
       "      <td>21000.000000</td>\n",
       "      <td>21000.000000</td>\n",
       "      <td>21000.000000</td>\n",
       "      <td>...</td>\n",
       "      <td>21000.000000</td>\n",
       "      <td>21000.000000</td>\n",
       "      <td>21000.000000</td>\n",
       "      <td>21000.0</td>\n",
       "      <td>21000.0</td>\n",
       "      <td>21000.000000</td>\n",
       "      <td>21000.000000</td>\n",
       "      <td>2.100000e+04</td>\n",
       "      <td>2.100000e+04</td>\n",
       "      <td>21000.000000</td>\n",
       "    </tr>\n",
       "    <tr>\n",
       "      <th>mean</th>\n",
       "      <td>201506.50000</td>\n",
       "      <td>1451.536344</td>\n",
       "      <td>1267.347450</td>\n",
       "      <td>184.374146</td>\n",
       "      <td>1492.403982</td>\n",
       "      <td>28.612404</td>\n",
       "      <td>8.512000e+08</td>\n",
       "      <td>0.083333</td>\n",
       "      <td>0.083333</td>\n",
       "      <td>0.083333</td>\n",
       "      <td>...</td>\n",
       "      <td>0.083333</td>\n",
       "      <td>0.083333</td>\n",
       "      <td>0.016667</td>\n",
       "      <td>0.0</td>\n",
       "      <td>0.0</td>\n",
       "      <td>0.083333</td>\n",
       "      <td>0.083333</td>\n",
       "      <td>5.439214e+08</td>\n",
       "      <td>1.045065e+06</td>\n",
       "      <td>151073.494286</td>\n",
       "    </tr>\n",
       "    <tr>\n",
       "      <th>std</th>\n",
       "      <td>141.46685</td>\n",
       "      <td>683.362417</td>\n",
       "      <td>587.757323</td>\n",
       "      <td>257.469968</td>\n",
       "      <td>2711.496882</td>\n",
       "      <td>3.972833</td>\n",
       "      <td>7.824340e+07</td>\n",
       "      <td>0.276392</td>\n",
       "      <td>0.276392</td>\n",
       "      <td>0.276392</td>\n",
       "      <td>...</td>\n",
       "      <td>0.276392</td>\n",
       "      <td>0.276392</td>\n",
       "      <td>0.128022</td>\n",
       "      <td>0.0</td>\n",
       "      <td>0.0</td>\n",
       "      <td>0.276392</td>\n",
       "      <td>0.276392</td>\n",
       "      <td>6.288022e+07</td>\n",
       "      <td>9.291926e+05</td>\n",
       "      <td>50409.593114</td>\n",
       "    </tr>\n",
       "    <tr>\n",
       "      <th>min</th>\n",
       "      <td>201301.00000</td>\n",
       "      <td>0.000000</td>\n",
       "      <td>-3121.690141</td>\n",
       "      <td>0.000000</td>\n",
       "      <td>0.000000</td>\n",
       "      <td>16.731034</td>\n",
       "      <td>6.964015e+08</td>\n",
       "      <td>0.000000</td>\n",
       "      <td>0.000000</td>\n",
       "      <td>0.000000</td>\n",
       "      <td>...</td>\n",
       "      <td>0.000000</td>\n",
       "      <td>0.000000</td>\n",
       "      <td>0.000000</td>\n",
       "      <td>0.0</td>\n",
       "      <td>0.0</td>\n",
       "      <td>0.000000</td>\n",
       "      <td>0.000000</td>\n",
       "      <td>4.130518e+08</td>\n",
       "      <td>1.227100e+04</td>\n",
       "      <td>90240.000000</td>\n",
       "    </tr>\n",
       "    <tr>\n",
       "      <th>25%</th>\n",
       "      <td>201403.75000</td>\n",
       "      <td>1311.547158</td>\n",
       "      <td>1178.365653</td>\n",
       "      <td>54.935108</td>\n",
       "      <td>8.272388</td>\n",
       "      <td>25.374816</td>\n",
       "      <td>7.890880e+08</td>\n",
       "      <td>0.000000</td>\n",
       "      <td>0.000000</td>\n",
       "      <td>0.000000</td>\n",
       "      <td>...</td>\n",
       "      <td>0.000000</td>\n",
       "      <td>0.000000</td>\n",
       "      <td>0.000000</td>\n",
       "      <td>0.0</td>\n",
       "      <td>0.0</td>\n",
       "      <td>0.000000</td>\n",
       "      <td>0.000000</td>\n",
       "      <td>5.090553e+08</td>\n",
       "      <td>6.018900e+04</td>\n",
       "      <td>110057.000000</td>\n",
       "    </tr>\n",
       "    <tr>\n",
       "      <th>50%</th>\n",
       "      <td>201506.50000</td>\n",
       "      <td>1495.174592</td>\n",
       "      <td>1324.695705</td>\n",
       "      <td>138.307225</td>\n",
       "      <td>158.436000</td>\n",
       "      <td>28.479272</td>\n",
       "      <td>8.649196e+08</td>\n",
       "      <td>0.000000</td>\n",
       "      <td>0.000000</td>\n",
       "      <td>0.000000</td>\n",
       "      <td>...</td>\n",
       "      <td>0.000000</td>\n",
       "      <td>0.000000</td>\n",
       "      <td>0.000000</td>\n",
       "      <td>0.0</td>\n",
       "      <td>0.0</td>\n",
       "      <td>0.000000</td>\n",
       "      <td>0.000000</td>\n",
       "      <td>5.512000e+08</td>\n",
       "      <td>1.232242e+06</td>\n",
       "      <td>131411.000000</td>\n",
       "    </tr>\n",
       "    <tr>\n",
       "      <th>75%</th>\n",
       "      <td>201609.25000</td>\n",
       "      <td>1725.652080</td>\n",
       "      <td>1517.311427</td>\n",
       "      <td>272.298630</td>\n",
       "      <td>1774.793475</td>\n",
       "      <td>31.568405</td>\n",
       "      <td>9.005551e+08</td>\n",
       "      <td>0.000000</td>\n",
       "      <td>0.000000</td>\n",
       "      <td>0.000000</td>\n",
       "      <td>...</td>\n",
       "      <td>0.000000</td>\n",
       "      <td>0.000000</td>\n",
       "      <td>0.000000</td>\n",
       "      <td>0.0</td>\n",
       "      <td>0.0</td>\n",
       "      <td>0.000000</td>\n",
       "      <td>0.000000</td>\n",
       "      <td>5.893715e+08</td>\n",
       "      <td>1.729177e+06</td>\n",
       "      <td>206553.000000</td>\n",
       "    </tr>\n",
       "    <tr>\n",
       "      <th>max</th>\n",
       "      <td>201712.00000</td>\n",
       "      <td>19166.625000</td>\n",
       "      <td>4925.404000</td>\n",
       "      <td>19166.625000</td>\n",
       "      <td>22526.610000</td>\n",
       "      <td>45.290476</td>\n",
       "      <td>1.049869e+09</td>\n",
       "      <td>1.000000</td>\n",
       "      <td>1.000000</td>\n",
       "      <td>1.000000</td>\n",
       "      <td>...</td>\n",
       "      <td>1.000000</td>\n",
       "      <td>1.000000</td>\n",
       "      <td>1.000000</td>\n",
       "      <td>0.0</td>\n",
       "      <td>0.0</td>\n",
       "      <td>1.000000</td>\n",
       "      <td>1.000000</td>\n",
       "      <td>6.700157e+08</td>\n",
       "      <td>3.137874e+06</td>\n",
       "      <td>247220.000000</td>\n",
       "    </tr>\n",
       "  </tbody>\n",
       "</table>\n",
       "<p>8 rows × 22 columns</p>\n",
       "</div>"
      ],
      "text/plain": [
       "          YearMonth         Price         Sales    Promotions        Volume  \\\n",
       "count   21000.00000  21000.000000  21000.000000  21000.000000  21000.000000   \n",
       "mean   201506.50000   1451.536344   1267.347450    184.374146   1492.403982   \n",
       "std       141.46685    683.362417    587.757323    257.469968   2711.496882   \n",
       "min    201301.00000      0.000000  -3121.690141      0.000000      0.000000   \n",
       "25%    201403.75000   1311.547158   1178.365653     54.935108      8.272388   \n",
       "50%    201506.50000   1495.174592   1324.695705    138.307225    158.436000   \n",
       "75%    201609.25000   1725.652080   1517.311427    272.298630   1774.793475   \n",
       "max    201712.00000  19166.625000   4925.404000  19166.625000  22526.610000   \n",
       "\n",
       "       Avg_Max_Temp   Soda_Volume    Easter Day   Good Friday      New Year  \\\n",
       "count  21000.000000  2.100000e+04  21000.000000  21000.000000  21000.000000   \n",
       "mean      28.612404  8.512000e+08      0.083333      0.083333      0.083333   \n",
       "std        3.972833  7.824340e+07      0.276392      0.276392      0.276392   \n",
       "min       16.731034  6.964015e+08      0.000000      0.000000      0.000000   \n",
       "25%       25.374816  7.890880e+08      0.000000      0.000000      0.000000   \n",
       "50%       28.479272  8.649196e+08      0.000000      0.000000      0.000000   \n",
       "75%       31.568405  9.005551e+08      0.000000      0.000000      0.000000   \n",
       "max       45.290476  1.049869e+09      1.000000      1.000000      1.000000   \n",
       "\n",
       "                     ...                 Independence Day  \\\n",
       "count                ...                     21000.000000   \n",
       "mean                 ...                         0.083333   \n",
       "std                  ...                         0.276392   \n",
       "min                  ...                         0.000000   \n",
       "25%                  ...                         0.000000   \n",
       "50%                  ...                         0.000000   \n",
       "75%                  ...                         0.000000   \n",
       "max                  ...                         1.000000   \n",
       "\n",
       "       Revolution Day Memorial  Regional Games   FIFA U-17 World Cup  \\\n",
       "count             21000.000000     21000.000000              21000.0   \n",
       "mean                  0.083333         0.016667                  0.0   \n",
       "std                   0.276392         0.128022                  0.0   \n",
       "min                   0.000000         0.000000                  0.0   \n",
       "25%                   0.000000         0.000000                  0.0   \n",
       "50%                   0.000000         0.000000                  0.0   \n",
       "75%                   0.000000         0.000000                  0.0   \n",
       "max                   1.000000         1.000000                  0.0   \n",
       "\n",
       "       Football Gold Cup  Beer Capital    Music Fest  Industry_Volume  \\\n",
       "count            21000.0  21000.000000  21000.000000     2.100000e+04   \n",
       "mean                 0.0      0.083333      0.083333     5.439214e+08   \n",
       "std                  0.0      0.276392      0.276392     6.288022e+07   \n",
       "min                  0.0      0.000000      0.000000     4.130518e+08   \n",
       "25%                  0.0      0.000000      0.000000     5.090553e+08   \n",
       "50%                  0.0      0.000000      0.000000     5.512000e+08   \n",
       "75%                  0.0      0.000000      0.000000     5.893715e+08   \n",
       "max                  0.0      1.000000      1.000000     6.700157e+08   \n",
       "\n",
       "       Avg_Population_2017  Avg_Yearly_Household_Income_2017  \n",
       "count         2.100000e+04                      21000.000000  \n",
       "mean          1.045065e+06                     151073.494286  \n",
       "std           9.291926e+05                      50409.593114  \n",
       "min           1.227100e+04                      90240.000000  \n",
       "25%           6.018900e+04                     110057.000000  \n",
       "50%           1.232242e+06                     131411.000000  \n",
       "75%           1.729177e+06                     206553.000000  \n",
       "max           3.137874e+06                     247220.000000  \n",
       "\n",
       "[8 rows x 22 columns]"
      ]
     },
     "execution_count": 175,
     "metadata": {},
     "output_type": "execute_result"
    }
   ],
   "source": [
    "data.describe()"
   ]
  },
  {
   "cell_type": "code",
   "execution_count": 176,
   "metadata": {},
   "outputs": [],
   "source": [
    "# Split Year and Months\n",
    "data['Year'] = pd.to_datetime(data.YearMonth,format=\"%Y%m\").dt.year\n",
    "data['Month'] = pd.to_datetime(data.YearMonth,format=\"%Y%m\").dt.month\n",
    "data.drop('YearMonth',axis=1,inplace=True)"
   ]
  },
  {
   "cell_type": "code",
   "execution_count": 187,
   "metadata": {},
   "outputs": [],
   "source": [
    "# Encode selected labels as categorical variables\n",
    "NUMERIC = ['Price', 'Sales', 'Promotions', 'Volume',\\\n",
    "       'Avg_Max_Temp', 'Soda_Volume', 'Easter Day', 'Good Friday', 'New Year',\\\n",
    "       'Christmas', 'Labor Day', 'Independence Day', 'Revolution Day Memorial',\\\n",
    "       'Regional Games ', 'FIFA U-17 World Cup', 'Football Gold Cup',\\\n",
    "       'Beer Capital', 'Music Fest', 'Industry_Volume', 'Avg_Population_2017',\\\n",
    "       'Avg_Yearly_Household_Income_2017', 'Year', 'Month']"
   ]
  },
  {
   "cell_type": "code",
   "execution_count": 188,
   "metadata": {},
   "outputs": [
    {
     "name": "stdout",
     "output_type": "stream",
     "text": [
      "Agency                              category\n",
      "SKU                                 category\n",
      "Price                                float64\n",
      "Sales                                float64\n",
      "Promotions                           float64\n",
      "Volume                               float64\n",
      "Avg_Max_Temp                         float64\n",
      "Soda_Volume                            int64\n",
      "Easter Day                             int64\n",
      "Good Friday                            int64\n",
      "New Year                               int64\n",
      "Christmas                              int64\n",
      "Labor Day                              int64\n",
      "Independence Day                       int64\n",
      "Revolution Day Memorial                int64\n",
      "Regional Games                         int64\n",
      "FIFA U-17 World Cup                    int64\n",
      "Football Gold Cup                      int64\n",
      "Beer Capital                           int64\n",
      "Music Fest                             int64\n",
      "Industry_Volume                        int64\n",
      "Avg_Population_2017                    int64\n",
      "Avg_Yearly_Household_Income_2017       int64\n",
      "Year                                   int64\n",
      "Month                                  int64\n",
      "dtype: object\n"
     ]
    }
   ],
   "source": [
    "# Define the lambda function: categorize_label\n",
    "categorize_label = lambda x: x.astype('category')\n",
    "\n",
    "# Convert df[LABELS] to a categorical type\n",
    "data[['Agency','SKU']] = data[['Agency','SKU']].apply(categorize_label,axis=0)\n",
    "\n",
    "# Print the converted dtypes\n",
    "print(data.dtypes)"
   ]
  },
  {
   "cell_type": "code",
   "execution_count": 189,
   "metadata": {},
   "outputs": [
    {
     "data": {
      "text/plain": [
       "Text(0,0.5,'Number of unique values')"
      ]
     },
     "execution_count": 189,
     "metadata": {},
     "output_type": "execute_result"
    },
    {
     "data": {
      "image/png": "[encoded data removed]",
      "text/plain": [
       "<matplotlib.figure.Figure at 0x26b0cd43208>"
      ]
     },
     "metadata": {},
     "output_type": "display_data"
    }
   ],
   "source": [
    "# Calculate number of unique values for each label: num_unique_labels\n",
    "num_unique_labels = data[['Agency','SKU']].apply(lambda x: pd.Series.nunique(x))\n",
    "\n",
    "# Plot number of unique values for each label\n",
    "num_unique_labels.plot(kind='bar');\n",
    "\n",
    "# Label the axes\n",
    "plt.xlabel('Labels')\n",
    "plt.ylabel('Number of unique values')"
   ]
  },
  {
   "cell_type": "code",
   "execution_count": 190,
   "metadata": {},
   "outputs": [
    {
     "data": {
      "text/plain": [
       "(21000, 106)"
      ]
     },
     "execution_count": 190,
     "metadata": {},
     "output_type": "execute_result"
    }
   ],
   "source": [
    "train = pd.concat([pd.get_dummies(data[['Agency','SKU']]),\n",
    "                   data[NUMERIC]],axis=1)\n",
    "train.shape"
   ]
  },
  {
   "cell_type": "code",
   "execution_count": 192,
   "metadata": {},
   "outputs": [],
   "source": [
    "X = train.drop('Volume',axis=1)\n",
    "y = train['Volume']"
   ]
  },
  {
   "cell_type": "markdown",
   "metadata": {},
   "source": [
    "### Split Train/Test Sets"
   ]
  },
  {
   "cell_type": "code",
   "execution_count": 193,
   "metadata": {},
   "outputs": [],
   "source": [
    "X_train, X_test, y_train, y_test = train_test_split(X, y, test_size=0.2, random_state=42)"
   ]
  },
  {
   "cell_type": "code",
   "execution_count": 194,
   "metadata": {},
   "outputs": [
    {
     "data": {
      "text/plain": [
       "((16800, 105), (4200, 105), (16800,), (4200,))"
      ]
     },
     "execution_count": 194,
     "metadata": {},
     "output_type": "execute_result"
    }
   ],
   "source": [
    "X_train.shape, X_test.shape, y_train.shape, y_test.shape"
   ]
  },
  {
   "cell_type": "markdown",
   "metadata": {},
   "source": [
    "### Specify the model"
   ]
  },
  {
   "cell_type": "code",
   "execution_count": 195,
   "metadata": {},
   "outputs": [
    {
     "data": {
      "text/plain": [
       "LinearRegression(copy_X=True, fit_intercept=True, n_jobs=1, normalize=False)"
      ]
     },
     "execution_count": 195,
     "metadata": {},
     "output_type": "execute_result"
    }
   ],
   "source": [
    "# Import classifiers\n",
    "from sklearn.linear_model import LinearRegression\n",
    "\n",
    "clf = LinearRegression()\n",
    "clf.fit(X_train,y_train)"
   ]
  },
  {
   "cell_type": "code",
   "execution_count": 197,
   "metadata": {},
   "outputs": [
    {
     "data": {
      "text/plain": [
       "0.46907485292042306"
      ]
     },
     "execution_count": 197,
     "metadata": {},
     "output_type": "execute_result"
    }
   ],
   "source": [
    "clf.score(X_test,y_test)"
   ]
  },
  {
   "cell_type": "code",
   "execution_count": 198,
   "metadata": {},
   "outputs": [
    {
     "data": {
      "text/plain": [
       "0.45684613329052781"
      ]
     },
     "execution_count": 198,
     "metadata": {},
     "output_type": "execute_result"
    }
   ],
   "source": [
    "clf.score(X_train,y_train)"
   ]
  },
  {
   "cell_type": "markdown",
   "metadata": {},
   "source": [
    "### Train/Validation Set Evaluation "
   ]
  },
  {
   "cell_type": "code",
   "execution_count": 18,
   "metadata": {},
   "outputs": [
    {
     "data": {
      "image/png": "[encoded data removed]",
      "text/plain": [
       "<matplotlib.figure.Figure at 0x1afc71bb780>"
      ]
     },
     "metadata": {},
     "output_type": "display_data"
    }
   ],
   "source": [
    "# summarize history for accuracy\n",
    "plt.plot(history.history['acc'])\n",
    "plt.plot(history.history['val_acc'])\n",
    "plt.title('model accuracy')\n",
    "plt.ylabel('accuracy')\n",
    "plt.xlabel('epoch')\n",
    "plt.legend(['train', 'validation'], loc='upper left')\n",
    "plt.show()"
   ]
  },
  {
   "cell_type": "code",
   "execution_count": 19,
   "metadata": {},
   "outputs": [
    {
     "data": {
      "image/png": "[encoded data removed]",
      "text/plain": [
       "<matplotlib.figure.Figure at 0x1b1b9354cc0>"
      ]
     },
     "metadata": {},
     "output_type": "display_data"
    }
   ],
   "source": [
    "# summarize history for loss\n",
    "plt.plot(history.history['loss'])\n",
    "plt.plot(history.history['val_loss'])\n",
    "plt.title('model loss')\n",
    "plt.ylabel('loss')\n",
    "plt.xlabel('epoch')\n",
    "plt.legend(['train', 'validation'], loc='upper left')\n",
    "plt.show()"
   ]
  },
  {
   "cell_type": "markdown",
   "metadata": {},
   "source": [
    "### Test Set Evaluation"
   ]
  },
  {
   "cell_type": "code",
   "execution_count": 20,
   "metadata": {},
   "outputs": [
    {
     "data": {
      "text/plain": [
       "array([ 1.45468307,  1.29977894], dtype=float32)"
      ]
     },
     "execution_count": 20,
     "metadata": {},
     "output_type": "execute_result"
    }
   ],
   "source": [
    "# evaluate the model\n",
    "pred = model.predict(test_X)\n",
    "pred = np.exp(pred) - 1\n",
    "pred[1]"
   ]
  },
  {
   "cell_type": "code",
   "execution_count": 21,
   "metadata": {},
   "outputs": [
    {
     "data": {
      "text/plain": [
       "<matplotlib.text.Text at 0x1b1b9439d68>"
      ]
     },
     "execution_count": 21,
     "metadata": {},
     "output_type": "execute_result"
    },
    {
     "data": {
      "image/png": "[encoded data removed]",
      "text/plain": [
       "<matplotlib.figure.Figure at 0x1b1b940e9e8>"
      ]
     },
     "metadata": {},
     "output_type": "display_data"
    }
   ],
   "source": [
    "idx = 450\n",
    "img = test_X[idx].reshape(3,250,250)\n",
    "plt.imshow(img.transpose((1,2,0)))\n",
    "plt.title(pred[idx][1].astype(int))"
   ]
  },
  {
   "cell_type": "markdown",
   "metadata": {},
   "source": [
    "***\n",
    "## 5. Predict the Test set"
   ]
  },
  {
   "cell_type": "markdown",
   "metadata": {},
   "source": [
    "### Select test model features "
   ]
  },
  {
   "cell_type": "markdown",
   "metadata": {},
   "source": [
    "### Make predictions "
   ]
  },
  {
   "cell_type": "markdown",
   "metadata": {},
   "source": [
    "***\n",
    "## 6. Save Results\n",
    "### Create the Solution "
   ]
  },
  {
   "cell_type": "code",
   "execution_count": 22,
   "metadata": {},
   "outputs": [
    {
     "ename": "NameError",
     "evalue": "name 'my_solution' is not defined",
     "output_type": "error",
     "traceback": [
      "\u001b[1;31m---------------------------------------------------------------------------\u001b[0m",
      "\u001b[1;31mNameError\u001b[0m                                 Traceback (most recent call last)",
      "\u001b[1;32m<ipython-input-22-0e37400d1b7c>\u001b[0m in \u001b[0;36m<module>\u001b[1;34m()\u001b[0m\n\u001b[1;32m----> 1\u001b[1;33m \u001b[0mmy_solution\u001b[0m\u001b[1;33m.\u001b[0m\u001b[0mindex\u001b[0m\u001b[1;33m.\u001b[0m\u001b[0mname\u001b[0m\u001b[1;33m\u001b[0m\u001b[0m\n\u001b[0m",
      "\u001b[1;31mNameError\u001b[0m: name 'my_solution' is not defined"
     ]
    }
   ],
   "source": [
    "my_solution.index.name"
   ]
  },
  {
   "cell_type": "markdown",
   "metadata": {},
   "source": [
    "### Save to CSV file "
   ]
  },
  {
   "cell_type": "code",
   "execution_count": null,
   "metadata": {
    "collapsed": true
   },
   "outputs": [],
   "source": [
    "my_solution.to_csv(\"my_solution_six.csv\")"
   ]
  },
  {
   "cell_type": "markdown",
   "metadata": {},
   "source": [
    " "
   ]
  },
  {
   "cell_type": "markdown",
   "metadata": {},
   "source": [
    "***\n",
    "***\n",
    "# Rough Work "
   ]
  },
  {
   "cell_type": "code",
   "execution_count": null,
   "metadata": {
    "collapsed": true
   },
   "outputs": [],
   "source": [
    "%matplotlib inline"
   ]
  },
  {
   "cell_type": "code",
   "execution_count": null,
   "metadata": {
    "collapsed": true
   },
   "outputs": [],
   "source": []
  }
 ],
 "metadata": {
  "kernelspec": {
   "display_name": "Python 3",
   "language": "python",
   "name": "python3"
  },
  "language_info": {
   "codemirror_mode": {
    "name": "ipython",
    "version": 3
   },
   "file_extension": ".py",
   "mimetype": "text/x-python",
   "name": "python",
   "nbconvert_exporter": "python",
   "pygments_lexer": "ipython3",
   "version": "3.6.3"
  }
 },
 "nbformat": 4,
 "nbformat_minor": 2
}
